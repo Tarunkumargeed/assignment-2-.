{
 "cells": [
  {
   "cell_type": "markdown",
   "metadata": {},
   "source": [
    "# Q-1> Create an empty list . and accept 10 numbers from user and append to it the list if it is even numbers "
   ]
  },
  {
   "cell_type": "code",
   "execution_count": 8,
   "metadata": {},
   "outputs": [
    {
     "name": "stdout",
     "output_type": "stream",
     "text": [
      "5\n",
      "6\n",
      "7\n",
      "8\n",
      "9\n",
      "121\n",
      "11\n",
      "2\n",
      "4\n",
      "67\n",
      "[6, 8, 2, 4]\n"
     ]
    }
   ],
   "source": [
    "l = []\n",
    "i=0\n",
    "while i <10:\n",
    "    e = int(input()) # e =is for denoting even number\n",
    "    if e%2==0:\n",
    "        l.append(e)\n",
    "    i+=1\n",
    "print(l)        \n",
    "        "
   ]
  },
  {
   "cell_type": "markdown",
   "metadata": {},
   "source": [
    "# Q-->2 Create a notebook on LIST COMPREHENSION"
   ]
  },
  {
   "cell_type": "raw",
   "metadata": {},
   "source": [
    "ANSWER-->  List Comprehension Python provides compact syntax for deriving one list from another. These expressions are called list comprehensions. \n",
    "\n",
    "It is an example of the language’s support for functional programming concepts. \n",
    "The Python list comprehensions are a very easy way to apply a function or filter to a list of items. \n",
    "Syntax for list comprehension: [expr for element in iterable if condition] \n",
    "                           or \n",
    "new_list = [expression for member in iterable] \n",
    "Above is equivalent to : for element in iterable: if condition: expr Explanation for list comprehension syntax:\n"
   ]
  },
  {
   "cell_type": "code",
   "execution_count": 4,
   "metadata": {},
   "outputs": [
    {
     "name": "stdout",
     "output_type": "stream",
     "text": [
      "[0, 1, 4, 9, 16, 25, 36, 49, 64, 81, 100, 121, 144, 169, 196, 225, 256, 289, 324, 361]\n"
     ]
    }
   ],
   "source": [
    "# PROGRAM FOR SQUARES \n",
    "squares = [i * i for i in range (20)]\n",
    "print(squares)"
   ]
  },
  {
   "cell_type": "code",
   "execution_count": 5,
   "metadata": {},
   "outputs": [
    {
     "name": "stdout",
     "output_type": "stream",
     "text": [
      "[0, 2, 4, 6, 8, 10, 12, 14, 16, 18, 20, 22, 24, 26, 28]\n"
     ]
    }
   ],
   "source": [
    "# PROGRAM FOR EVEN NUMBERS \n",
    "num_list =[x for x in range (30) if x%2==0 ]\n",
    "print(num_list)"
   ]
  },
  {
   "cell_type": "markdown",
   "metadata": {},
   "source": [
    "# Q-->3  Given a number n, write a program that generates a dictionary d which contains (i, i*i), where i is from 1 to n (both included) and also print this dictionary d.\n"
   ]
  },
  {
   "cell_type": "code",
   "execution_count": 6,
   "metadata": {},
   "outputs": [
    {
     "name": "stdout",
     "output_type": "stream",
     "text": [
      "enter a number :5\n",
      "{1: 1, 2: 4, 3: 9, 4: 16, 5: 25}\n"
     ]
    }
   ],
   "source": [
    "n=int(input(\"enter a number :\"))\n",
    "a = {}\n",
    "i = 1\n",
    "while i<=n:\n",
    "    a[i]=i*i\n",
    "    i+=1\n",
    "print(a)\n"
   ]
  },
  {
   "cell_type": "markdown",
   "metadata": {},
   "source": [
    "# Q-->4  There is a robot which wants to go the charging point to charge itself. \n",
    "The robot moves in a 2-D plane from the original point (0,0). \n",
    "The robot can move toward UP, DOWN, LEFT and RIGHT with given steps. \n",
    "The trace of robot movement is shown as the following: UP 5 DOWN 3 LEFT 3 RIGHT 2 Then, the output of the program should be: \n",
    "        2 The numbers after the direction are steps. \n",
    "        Write a program to compute the distance between the current position after a sequence of movement and original point. \n",
    "        If the distance is a float, then just print the nearest integer (use round() function for that and then convert it into an integer). Input Format: The first line of the input contains a number n which implies the number of directions to be given. The next n lines contain the direction and the step separated by a space. Output Format: Print the distance from the original position to the current position. Example: Input: 4 UP 5 DOWN 3 LEFT 3 RIGHT 2 Output: 2\n"
   ]
  },
  {
   "cell_type": "code",
   "execution_count": 7,
   "metadata": {},
   "outputs": [
    {
     "name": "stdout",
     "output_type": "stream",
     "text": [
      "2\n"
     ]
    }
   ],
   "source": [
    "import math\n",
    "#plane is 2D , ONLY x y AXIS \n",
    "position =[0,0]\n",
    "movement ={\"UP\":[0,1],\n",
    "       \"DOWN\":[0,-1],\n",
    "       \"LEFT\":[-1,0],\n",
    "       \"RIGHT\":[1,0]}\n",
    "\n",
    "#INPUT FROM THE QUES \n",
    "data=[\"UP 5\",\n",
    "    \"DOWN 3\",\n",
    "    \"LEFT 3\",\n",
    "    \"RIGHT 2\"]\n",
    "\n",
    "#Movement robot on valid moves\n",
    "for inp in data:\n",
    "    parts=inp.split()    \n",
    "    mv=parts[0]\n",
    "    val=parts[1]\n",
    "    if mv in movement and val.isnumeric():\n",
    "        position[0] += movement[mv][0]*int(val)\n",
    "        position[1] += movement[mv][1]*int(val)\n",
    "\n",
    "#get distance     \n",
    "distance = math.sqrt(pos[0]**2 + pos[1]**2) \n",
    "\n",
    "#print(distance, \"from [0,0] to\",pos) with nearest integer\n",
    "\n",
    "print(round(distance))"
   ]
  },
  {
   "cell_type": "code",
   "execution_count": null,
   "metadata": {},
   "outputs": [],
   "source": [
    "# assignment finish "
   ]
  }
 ],
 "metadata": {
  "kernelspec": {
   "display_name": "Python 3",
   "language": "python",
   "name": "python3"
  },
  "language_info": {
   "codemirror_mode": {
    "name": "ipython",
    "version": 3
   },
   "file_extension": ".py",
   "mimetype": "text/x-python",
   "name": "python",
   "nbconvert_exporter": "python",
   "pygments_lexer": "ipython3",
   "version": "3.8.3"
  }
 },
 "nbformat": 4,
 "nbformat_minor": 4
}
